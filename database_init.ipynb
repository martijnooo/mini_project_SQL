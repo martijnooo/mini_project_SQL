{
 "cells": [
  {
   "cell_type": "code",
   "execution_count": 5,
   "metadata": {},
   "outputs": [],
   "source": [
    "from sqlalchemy import text\n",
    "from sql_engine import get_engine "
   ]
  },
  {
   "cell_type": "code",
   "execution_count": 6,
   "metadata": {},
   "outputs": [],
   "source": [
    "# Get the engine\n",
    "engine = get_engine()"
   ]
  },
  {
   "cell_type": "code",
   "execution_count": 14,
   "metadata": {},
   "outputs": [
    {
     "name": "stdout",
     "output_type": "stream",
     "text": [
      "Switched to 'ufo_sightings' database.\n",
      "Table 'event_dates' created successfully (if it didn't already exist).\n",
      "Table 'countries' created successfully (if it didn't already exist).\n",
      "Table 'movies' created successfully (if it didn't already exist).\n",
      "Table 'ufo_sightings' created successfully (if it didn't already exist).\n",
      "Table 'subscribers' created successfully (if it didn't already exist).\n"
     ]
    }
   ],
   "source": [
    "# Create the ufo_sightings database\n",
    "with engine.connect() as connection:\n",
    "    connection.execute(text('CREATE DATABASE IF NOT EXISTS ufo_sightings'))\n",
    "\n",
    "    # Switch to the ufo_sightings database\n",
    "    connection.execute(text('USE ufo_sightings'))\n",
    "    print(\"Switched to 'ufo_sightings' database.\")\n",
    "\n",
    "    # Drop all tables if they exist\n",
    "    connection.execute(text('DROP TABLE IF EXISTS subscribers'))\n",
    "    connection.execute(text('DROP TABLE IF EXISTS ufo_sightings'))\n",
    "    connection.execute(text('DROP TABLE IF EXISTS movies'))\n",
    "    connection.execute(text('DROP TABLE IF EXISTS countries'))\n",
    "    connection.execute(text('DROP TABLE IF EXISTS event_dates'))\n",
    "    # print(\"Dropped all tables from previous runs (if they existed).\")\n",
    "\n",
    "    # Create table event_dates\n",
    "    connection.execute(text('''\n",
    "        CREATE TABLE IF NOT EXISTS event_dates (\n",
    "            date_id INT PRIMARY KEY,\n",
    "            date varchar(10)\n",
    "        )\n",
    "    '''))\n",
    "    print(\"Table 'event_dates' created successfully (if it didn't already exist).\")\n",
    "\n",
    "\n",
    "    # Create table countries\n",
    "    connection.execute(text('''\n",
    "        CREATE TABLE IF NOT EXISTS countries (\n",
    "            country_id INT PRIMARY KEY,\n",
    "            country VARCHAR(255) NOT NULL,\n",
    "            country_short VARCHAR(20)\n",
    "        )\n",
    "    '''))\n",
    "    print(\"Table 'countries' created successfully (if it didn't already exist).\")\n",
    "\n",
    "    # Create table movies\n",
    "    connection.execute(text('''\n",
    "        CREATE TABLE IF NOT EXISTS movies (\n",
    "            id INT AUTO_INCREMENT PRIMARY KEY,\n",
    "            title VARCHAR(255) NOT NULL,\n",
    "            date_added TIMESTAMP,\n",
    "            date_added_formatted varchar(10),\n",
    "            type VARCHAR(20),\n",
    "            release_year INT,\n",
    "            ufo_theme BOOLEAN NOT NULL DEFAULT FALSE,\n",
    "            date_id INT,\n",
    "            FOREIGN KEY (date_id) REFERENCES event_dates(date_id) ON DELETE CASCADE\n",
    "        )\n",
    "    '''))\n",
    "    print(\"Table 'movies' created successfully (if it didn't already exist).\")\n",
    "\n",
    "\n",
    "    # Create table ufo_sightings\n",
    "    connection.execute(text('''\n",
    "        CREATE TABLE IF NOT EXISTS ufo_sightings (\n",
    "            id INT AUTO_INCREMENT PRIMARY KEY,\n",
    "            country_id INT,\n",
    "            state VARCHAR(50),\n",
    "            city VARCHAR(250),\n",
    "            date VARCHAR(10),\n",
    "            date_id INT,\n",
    "            FOREIGN KEY (country_id) REFERENCES countries(country_id) ON DELETE CASCADE,\n",
    "            FOREIGN KEY (date_id) REFERENCES event_dates(date_id) ON DELETE CASCADE\n",
    "        )\n",
    "    '''))\n",
    "    print(\"Table 'ufo_sightings' created successfully (if it didn't already exist).\")\n",
    "\n",
    "    # Create table subscribers\n",
    "    connection.execute(text('''\n",
    "        CREATE TABLE IF NOT EXISTS subscribers (\n",
    "            id INT AUTO_INCREMENT PRIMARY KEY,\n",
    "            subscribers INT NOT NULL DEFAULT 0,\n",
    "            country_id INT,\n",
    "            FOREIGN KEY (country_id) REFERENCES countries(country_id) ON DELETE CASCADE\n",
    "        )\n",
    "    '''))\n",
    "    print(\"Table 'subscribers' created successfully (if it didn't already exist).\")\n",
    "\n",
    "\n",
    "    # Create indexes for foreign keys for faster query\n",
    "    connection.execute(text('CREATE INDEX idx_country_id_ufo ON ufo_sightings (country_id)'))\n",
    "    connection.execute(text('CREATE INDEX idx_country_id_subs ON subscribers (country_id)'))\n"
   ]
  },
  {
   "cell_type": "code",
   "execution_count": null,
   "metadata": {},
   "outputs": [],
   "source": []
  }
 ],
 "metadata": {
  "kernelspec": {
   "display_name": "datasci_env",
   "language": "python",
   "name": "python3"
  },
  "language_info": {
   "codemirror_mode": {
    "name": "ipython",
    "version": 3
   },
   "file_extension": ".py",
   "mimetype": "text/x-python",
   "name": "python",
   "nbconvert_exporter": "python",
   "pygments_lexer": "ipython3",
   "version": "3.8.20"
  }
 },
 "nbformat": 4,
 "nbformat_minor": 2
}
